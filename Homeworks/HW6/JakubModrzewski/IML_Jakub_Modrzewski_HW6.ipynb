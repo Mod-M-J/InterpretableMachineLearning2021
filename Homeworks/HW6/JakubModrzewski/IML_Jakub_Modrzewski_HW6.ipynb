{
  "nbformat": 4,
  "nbformat_minor": 0,
  "metadata": {
    "colab": {
      "name": "IML_Jakub_Modrzewski_HW6.ipynb",
      "provenance": [],
      "collapsed_sections": []
    },
    "kernelspec": {
      "name": "python3",
      "display_name": "Python 3"
    },
    "language_info": {
      "name": "python"
    }
  },
  "cells": [
    {
      "cell_type": "markdown",
      "metadata": {
        "id": "Tw8AZ5h7agml"
      },
      "source": [
        "# Fairness Metrics. \n",
        "\n",
        "\n",
        "---\n",
        "\n",
        "\n",
        "## TODO:\n",
        "\n",
        "  * For the selected data set, train at least one tree-based ensemble model (random forest, gbm, catboost or any other boosting)\n",
        "  * For a selected variable (protected attribute, if possible choose sex or race, but if you do not have such variable then choose any categorical varaible) calculate selected fairness metrics (at least 3, like statistical parity, • equal opportunity, predictive equality),\n",
        "  * train three or more candidate models (different variables, different transformations, different model structures) and compare fairness metrics between them.\n",
        "  * Comment on the results for points (2) and (3)\n"
      ]
    },
    {
      "cell_type": "markdown",
      "metadata": {
        "id": "bEjfn4GJFdUm"
      },
      "source": [
        "## Data & preprocessing\n",
        "\n",
        "\n",
        "---\n",
        "\n"
      ]
    },
    {
      "cell_type": "markdown",
      "metadata": {
        "id": "nWO449BybHcy"
      },
      "source": [
        "For the sake of simplicity we'll re-use mushrooms dataset again, known already from the HW1, HW2 and HW3. Ordinnal encoder will be used, similarly to the HW3."
      ]
    },
    {
      "cell_type": "code",
      "metadata": {
        "id": "2t6oeNcRNRFI"
      },
      "source": [
        "import numpy as np\n",
        "import pandas as pd \n",
        "from sklearn.preprocessing import OrdinalEncoder\n",
        "from sklearn.model_selection import train_test_split\n",
        "\n",
        "df = pd.read_csv(\"mushrooms.csv\")\n",
        "encoder = OrdinalEncoder()\n",
        "\n",
        "y = df.loc[:,['class']]\n",
        "X = df.drop(['class'], axis=1)\n",
        "\n",
        "y_temp = encoder.fit_transform(y)\n",
        "X_temp = encoder.fit_transform(X)\n",
        "\n",
        "X_train, X_test, y_train, y_test = train_test_split(X_temp, y_temp, test_size=0.2, shuffle=True)\n",
        "X_train, X_val, y_train, y_val = train_test_split(X_train, y_train, test_size=0.2, shuffle=True)"
      ],
      "execution_count": 22,
      "outputs": []
    },
    {
      "cell_type": "markdown",
      "metadata": {
        "id": "2aQfjThAJpud"
      },
      "source": [
        "And we'll also need fairness metrics."
      ]
    },
    {
      "cell_type": "code",
      "metadata": {
        "id": "EQQE215xKV0E"
      },
      "source": [
        "!pip install --quiet 'aif360[all]'\n",
        "from aif360.sklearn.metrics import statistical_parity_difference, equal_opportunity_difference, between_group_generalized_entropy_error"
      ],
      "execution_count": 23,
      "outputs": []
    },
    {
      "cell_type": "markdown",
      "metadata": {
        "id": "VfzQ4PuYFtKf"
      },
      "source": [
        "## First model\n",
        "\n",
        "---"
      ]
    },
    {
      "cell_type": "markdown",
      "metadata": {
        "id": "WvTXLaGJEnDg"
      },
      "source": [
        "For the tree-based model, let's take xgboost."
      ]
    },
    {
      "cell_type": "code",
      "metadata": {
        "colab": {
          "base_uri": "https://localhost:8080/"
        },
        "id": "PMujv7XkDe7H",
        "outputId": "1639f3f6-7a77-4dde-faa1-56a7f6137775"
      },
      "source": [
        "import xgboost\n",
        "\n",
        "xgb = xgboost.XGBClassifier().fit(X_train, y_train)\n",
        "print(f\"Model score on test set: {xgb.score(X_test, y_test)}\")\n",
        "print(f\"Predictions for the first 10 observations: {xgb.predict(X_test[:10])}\")\n",
        "print(f\"True values for the first 10 observations: {y_test[:10].tolist()}\")"
      ],
      "execution_count": 24,
      "outputs": [
        {
          "output_type": "stream",
          "text": [
            "A column-vector y was passed when a 1d array was expected. Please change the shape of y to (n_samples, ), for example using ravel().\n",
            "A column-vector y was passed when a 1d array was expected. Please change the shape of y to (n_samples, ), for example using ravel().\n"
          ],
          "name": "stderr"
        },
        {
          "output_type": "stream",
          "text": [
            "Model score on test set: 1.0\n",
            "Predictions for the first 10 observations: [1. 1. 0. 1. 0. 1. 0. 0. 0. 0.]\n",
            "True values for the first 10 observations: [[1.0], [1.0], [0.0], [1.0], [0.0], [1.0], [0.0], [0.0], [0.0], [0.0]]\n"
          ],
          "name": "stdout"
        }
      ]
    },
    {
      "cell_type": "markdown",
      "metadata": {
        "id": "C3ScK6PVEf7c"
      },
      "source": [
        "Since mushroom dataset is fairly simple, our xboost model trained very well. Let's calculate fairness metrics and see how they behave."
      ]
    },
    {
      "cell_type": "code",
      "metadata": {
        "id": "kAQyN5cwFUik"
      },
      "source": [
        "import pandas as pd\n",
        "\n",
        "y_true = pd.DataFrame(y_test)\n",
        "#y_true = y_true.reset_index()\n",
        "y_true.columns = ['Poisonous']\n",
        "#y_pred = pd.DataFrame(xgb.predict(X_test), columns='Poisonous')\n",
        "#statistical_parity_difference(predictions)"
      ],
      "execution_count": 51,
      "outputs": []
    },
    {
      "cell_type": "code",
      "metadata": {
        "colab": {
          "base_uri": "https://localhost:8080/",
          "height": 424
        },
        "id": "DF0lLYSyQKIw",
        "outputId": "90336391-0f7d-417e-ed62-3764ea6b03de"
      },
      "source": [
        "y_true"
      ],
      "execution_count": 52,
      "outputs": [
        {
          "output_type": "execute_result",
          "data": {
            "text/html": [
              "<div>\n",
              "<style scoped>\n",
              "    .dataframe tbody tr th:only-of-type {\n",
              "        vertical-align: middle;\n",
              "    }\n",
              "\n",
              "    .dataframe tbody tr th {\n",
              "        vertical-align: top;\n",
              "    }\n",
              "\n",
              "    .dataframe thead th {\n",
              "        text-align: right;\n",
              "    }\n",
              "</style>\n",
              "<table border=\"1\" class=\"dataframe\">\n",
              "  <thead>\n",
              "    <tr style=\"text-align: right;\">\n",
              "      <th></th>\n",
              "      <th>Poisonous</th>\n",
              "    </tr>\n",
              "  </thead>\n",
              "  <tbody>\n",
              "    <tr>\n",
              "      <th>0</th>\n",
              "      <td>1.0</td>\n",
              "    </tr>\n",
              "    <tr>\n",
              "      <th>1</th>\n",
              "      <td>1.0</td>\n",
              "    </tr>\n",
              "    <tr>\n",
              "      <th>2</th>\n",
              "      <td>0.0</td>\n",
              "    </tr>\n",
              "    <tr>\n",
              "      <th>3</th>\n",
              "      <td>1.0</td>\n",
              "    </tr>\n",
              "    <tr>\n",
              "      <th>4</th>\n",
              "      <td>0.0</td>\n",
              "    </tr>\n",
              "    <tr>\n",
              "      <th>...</th>\n",
              "      <td>...</td>\n",
              "    </tr>\n",
              "    <tr>\n",
              "      <th>1620</th>\n",
              "      <td>1.0</td>\n",
              "    </tr>\n",
              "    <tr>\n",
              "      <th>1621</th>\n",
              "      <td>1.0</td>\n",
              "    </tr>\n",
              "    <tr>\n",
              "      <th>1622</th>\n",
              "      <td>1.0</td>\n",
              "    </tr>\n",
              "    <tr>\n",
              "      <th>1623</th>\n",
              "      <td>1.0</td>\n",
              "    </tr>\n",
              "    <tr>\n",
              "      <th>1624</th>\n",
              "      <td>1.0</td>\n",
              "    </tr>\n",
              "  </tbody>\n",
              "</table>\n",
              "<p>1625 rows × 1 columns</p>\n",
              "</div>"
            ],
            "text/plain": [
              "      Poisonous\n",
              "0           1.0\n",
              "1           1.0\n",
              "2           0.0\n",
              "3           1.0\n",
              "4           0.0\n",
              "...         ...\n",
              "1620        1.0\n",
              "1621        1.0\n",
              "1622        1.0\n",
              "1623        1.0\n",
              "1624        1.0\n",
              "\n",
              "[1625 rows x 1 columns]"
            ]
          },
          "metadata": {
            "tags": []
          },
          "execution_count": 52
        }
      ]
    },
    {
      "cell_type": "code",
      "metadata": {
        "colab": {
          "base_uri": "https://localhost:8080/",
          "height": 327
        },
        "id": "asm7Xwv5PEne",
        "outputId": "058c578c-b985-4728-f5e2-05156af99e62"
      },
      "source": [
        "equal_opportunity_difference(y_true, y_pred, priv_group='Poisonous')"
      ],
      "execution_count": 55,
      "outputs": [
        {
          "output_type": "error",
          "ename": "ValueError",
          "evalue": "ignored",
          "traceback": [
            "\u001b[0;31m---------------------------------------------------------------------------\u001b[0m",
            "\u001b[0;31mValueError\u001b[0m                                Traceback (most recent call last)",
            "\u001b[0;32m<ipython-input-55-29642173cad8>\u001b[0m in \u001b[0;36m<module>\u001b[0;34m()\u001b[0m\n\u001b[0;32m----> 1\u001b[0;31m \u001b[0mequal_opportunity_difference\u001b[0m\u001b[0;34m(\u001b[0m\u001b[0my_true\u001b[0m\u001b[0;34m,\u001b[0m \u001b[0my_pred\u001b[0m\u001b[0;34m,\u001b[0m \u001b[0mpriv_group\u001b[0m\u001b[0;34m=\u001b[0m\u001b[0;34m'Poisonous'\u001b[0m\u001b[0;34m)\u001b[0m\u001b[0;34m\u001b[0m\u001b[0;34m\u001b[0m\u001b[0m\n\u001b[0m",
            "\u001b[0;32m/usr/local/lib/python3.7/dist-packages/aif360/sklearn/metrics/metrics.py\u001b[0m in \u001b[0;36mequal_opportunity_difference\u001b[0;34m(y_true, y_pred, prot_attr, priv_group, pos_label, sample_weight)\u001b[0m\n\u001b[1;32m    347\u001b[0m     return difference(recall_score, y_true, y_pred, prot_attr=prot_attr,\n\u001b[1;32m    348\u001b[0m                       \u001b[0mpriv_group\u001b[0m\u001b[0;34m=\u001b[0m\u001b[0mpriv_group\u001b[0m\u001b[0;34m,\u001b[0m \u001b[0mpos_label\u001b[0m\u001b[0;34m=\u001b[0m\u001b[0mpos_label\u001b[0m\u001b[0;34m,\u001b[0m\u001b[0;34m\u001b[0m\u001b[0;34m\u001b[0m\u001b[0m\n\u001b[0;32m--> 349\u001b[0;31m                       sample_weight=sample_weight)\n\u001b[0m\u001b[1;32m    350\u001b[0m \u001b[0;34m\u001b[0m\u001b[0m\n\u001b[1;32m    351\u001b[0m def average_odds_difference(y_true, y_pred, prot_attr=None, priv_group=1,\n",
            "\u001b[0;32m/usr/local/lib/python3.7/dist-packages/aif360/sklearn/metrics/metrics.py\u001b[0m in \u001b[0;36mdifference\u001b[0;34m(func, y, prot_attr, priv_group, sample_weight, *args, **kwargs)\u001b[0m\n\u001b[1;32m     66\u001b[0m         \u001b[0;34m-\u001b[0m\u001b[0;36m0.06955430006277463\u001b[0m\u001b[0;34m\u001b[0m\u001b[0;34m\u001b[0m\u001b[0m\n\u001b[1;32m     67\u001b[0m     \"\"\"\n\u001b[0;32m---> 68\u001b[0;31m     \u001b[0mgroups\u001b[0m\u001b[0;34m,\u001b[0m \u001b[0m_\u001b[0m \u001b[0;34m=\u001b[0m \u001b[0mcheck_groups\u001b[0m\u001b[0;34m(\u001b[0m\u001b[0my\u001b[0m\u001b[0;34m,\u001b[0m \u001b[0mprot_attr\u001b[0m\u001b[0;34m)\u001b[0m\u001b[0;34m\u001b[0m\u001b[0;34m\u001b[0m\u001b[0m\n\u001b[0m\u001b[1;32m     69\u001b[0m     \u001b[0midx\u001b[0m \u001b[0;34m=\u001b[0m \u001b[0;34m(\u001b[0m\u001b[0mgroups\u001b[0m \u001b[0;34m==\u001b[0m \u001b[0mpriv_group\u001b[0m\u001b[0;34m)\u001b[0m\u001b[0;34m\u001b[0m\u001b[0;34m\u001b[0m\u001b[0m\n\u001b[1;32m     70\u001b[0m     \u001b[0munpriv\u001b[0m \u001b[0;34m=\u001b[0m \u001b[0mmap\u001b[0m\u001b[0;34m(\u001b[0m\u001b[0;32mlambda\u001b[0m \u001b[0ma\u001b[0m\u001b[0;34m:\u001b[0m \u001b[0ma\u001b[0m\u001b[0;34m[\u001b[0m\u001b[0;34m~\u001b[0m\u001b[0midx\u001b[0m\u001b[0;34m]\u001b[0m\u001b[0;34m,\u001b[0m \u001b[0;34m(\u001b[0m\u001b[0my\u001b[0m\u001b[0;34m,\u001b[0m\u001b[0;34m)\u001b[0m \u001b[0;34m+\u001b[0m \u001b[0margs\u001b[0m\u001b[0;34m)\u001b[0m\u001b[0;34m\u001b[0m\u001b[0;34m\u001b[0m\u001b[0m\n",
            "\u001b[0;32m/usr/local/lib/python3.7/dist-packages/aif360/sklearn/utils.py\u001b[0m in \u001b[0;36mcheck_groups\u001b[0;34m(arr, prot_attr, ensure_binary)\u001b[0m\n\u001b[1;32m     83\u001b[0m                          \"{}\".format(all_prot_attrs, prot_attr))\n\u001b[1;32m     84\u001b[0m \u001b[0;34m\u001b[0m\u001b[0m\n\u001b[0;32m---> 85\u001b[0;31m     \u001b[0mgroups\u001b[0m \u001b[0;34m=\u001b[0m \u001b[0marr\u001b[0m\u001b[0;34m.\u001b[0m\u001b[0mindex\u001b[0m\u001b[0;34m.\u001b[0m\u001b[0mdroplevel\u001b[0m\u001b[0;34m(\u001b[0m\u001b[0mlist\u001b[0m\u001b[0;34m(\u001b[0m\u001b[0mset\u001b[0m\u001b[0;34m(\u001b[0m\u001b[0marr\u001b[0m\u001b[0;34m.\u001b[0m\u001b[0mindex\u001b[0m\u001b[0;34m.\u001b[0m\u001b[0mnames\u001b[0m\u001b[0;34m)\u001b[0m \u001b[0;34m-\u001b[0m \u001b[0mset\u001b[0m\u001b[0;34m(\u001b[0m\u001b[0mprot_attr\u001b[0m\u001b[0;34m)\u001b[0m\u001b[0;34m)\u001b[0m\u001b[0;34m)\u001b[0m\u001b[0;34m\u001b[0m\u001b[0;34m\u001b[0m\u001b[0m\n\u001b[0m\u001b[1;32m     86\u001b[0m     \u001b[0mgroups\u001b[0m \u001b[0;34m=\u001b[0m \u001b[0mgroups\u001b[0m\u001b[0;34m.\u001b[0m\u001b[0mto_flat_index\u001b[0m\u001b[0;34m(\u001b[0m\u001b[0;34m)\u001b[0m\u001b[0;34m\u001b[0m\u001b[0;34m\u001b[0m\u001b[0m\n\u001b[1;32m     87\u001b[0m \u001b[0;34m\u001b[0m\u001b[0m\n",
            "\u001b[0;32m/usr/local/lib/python3.7/dist-packages/pandas/core/indexes/base.py\u001b[0m in \u001b[0;36mdroplevel\u001b[0;34m(self, level)\u001b[0m\n\u001b[1;32m   1504\u001b[0m         \u001b[0;32mif\u001b[0m \u001b[0mlen\u001b[0m\u001b[0;34m(\u001b[0m\u001b[0mlevel\u001b[0m\u001b[0;34m)\u001b[0m \u001b[0;34m>=\u001b[0m \u001b[0mself\u001b[0m\u001b[0;34m.\u001b[0m\u001b[0mnlevels\u001b[0m\u001b[0;34m:\u001b[0m\u001b[0;34m\u001b[0m\u001b[0;34m\u001b[0m\u001b[0m\n\u001b[1;32m   1505\u001b[0m             raise ValueError(\n\u001b[0;32m-> 1506\u001b[0;31m                 \u001b[0;34mf\"Cannot remove {len(level)} levels from an index with {self.nlevels} \"\u001b[0m\u001b[0;34m\u001b[0m\u001b[0;34m\u001b[0m\u001b[0m\n\u001b[0m\u001b[1;32m   1507\u001b[0m                 \u001b[0;34m\"levels: at least one level must be left.\"\u001b[0m\u001b[0;34m\u001b[0m\u001b[0;34m\u001b[0m\u001b[0m\n\u001b[1;32m   1508\u001b[0m             )\n",
            "\u001b[0;31mValueError\u001b[0m: Cannot remove 1 levels from an index with 1 levels: at least one level must be left."
          ]
        }
      ]
    },
    {
      "cell_type": "markdown",
      "metadata": {
        "id": "awwYCOWPFUTO"
      },
      "source": [
        "## Second model\n",
        "\n",
        "---"
      ]
    },
    {
      "cell_type": "code",
      "metadata": {
        "colab": {
          "base_uri": "https://localhost:8080/"
        },
        "id": "2XGs4r0oT_lb",
        "outputId": "4eff0c76-faa9-4712-fe9f-b25ce0947787"
      },
      "source": [
        "# And now, for the last point, let's re-use some code from HW1 to train simple NN classifier\n",
        "from tensorflow.keras.models import Sequential\n",
        "from tensorflow.keras.layers import Dense, Dropout, MaxPooling2D\n",
        "from tensorflow.keras.optimizers import Adam\n",
        "\n",
        "model = Sequential()\n",
        "#model.add(Dense(32, activation='relu'))\n",
        "model.add(Dense(1, activation='sigmoid')) \n",
        "\n",
        "model.compile(loss='binary_crossentropy', optimizer=Adam(learning_rate=0.0001), metrics=['accuracy'])\n",
        "history = model.fit(X_train, y_train, batch_size=16, epochs=100, validation_data=(X_val, y_val))\n",
        "\n",
        "score = model.evaluate(X_test, y_test)\n",
        "print('Test loss:', score[0])\n",
        "print('Test accuracy:', score[1])"
      ],
      "execution_count": null,
      "outputs": [
        {
          "output_type": "stream",
          "text": [
            "Epoch 1/100\n",
            "325/325 [==============================] - 1s 2ms/step - loss: 0.9309 - accuracy: 0.5549 - val_loss: 0.8970 - val_accuracy: 0.5685\n",
            "Epoch 2/100\n",
            "325/325 [==============================] - 0s 2ms/step - loss: 0.8409 - accuracy: 0.5807 - val_loss: 0.8647 - val_accuracy: 0.5754\n",
            "Epoch 3/100\n",
            "325/325 [==============================] - 0s 1ms/step - loss: 0.8260 - accuracy: 0.5890 - val_loss: 0.8331 - val_accuracy: 0.5977\n",
            "Epoch 4/100\n",
            "325/325 [==============================] - 0s 1ms/step - loss: 0.7907 - accuracy: 0.6159 - val_loss: 0.8040 - val_accuracy: 0.6223\n",
            "Epoch 5/100\n",
            "325/325 [==============================] - 0s 1ms/step - loss: 0.7636 - accuracy: 0.6414 - val_loss: 0.7779 - val_accuracy: 0.6338\n",
            "Epoch 6/100\n",
            "325/325 [==============================] - 0s 2ms/step - loss: 0.7446 - accuracy: 0.6480 - val_loss: 0.7530 - val_accuracy: 0.6485\n",
            "Epoch 7/100\n",
            "325/325 [==============================] - 0s 1ms/step - loss: 0.7154 - accuracy: 0.6654 - val_loss: 0.7305 - val_accuracy: 0.6623\n",
            "Epoch 8/100\n",
            "325/325 [==============================] - 0s 2ms/step - loss: 0.7008 - accuracy: 0.6787 - val_loss: 0.7086 - val_accuracy: 0.6838\n",
            "Epoch 9/100\n",
            "325/325 [==============================] - 0s 1ms/step - loss: 0.6594 - accuracy: 0.6899 - val_loss: 0.6890 - val_accuracy: 0.6915\n",
            "Epoch 10/100\n",
            "325/325 [==============================] - 1s 2ms/step - loss: 0.6405 - accuracy: 0.7047 - val_loss: 0.6696 - val_accuracy: 0.7038\n",
            "Epoch 11/100\n",
            "325/325 [==============================] - 0s 1ms/step - loss: 0.6483 - accuracy: 0.7013 - val_loss: 0.6505 - val_accuracy: 0.7123\n",
            "Epoch 12/100\n",
            "325/325 [==============================] - 1s 2ms/step - loss: 0.6130 - accuracy: 0.7239 - val_loss: 0.6334 - val_accuracy: 0.7200\n",
            "Epoch 13/100\n",
            "325/325 [==============================] - 1s 2ms/step - loss: 0.6042 - accuracy: 0.7318 - val_loss: 0.6167 - val_accuracy: 0.7269\n",
            "Epoch 14/100\n",
            "325/325 [==============================] - 0s 1ms/step - loss: 0.6045 - accuracy: 0.7282 - val_loss: 0.6012 - val_accuracy: 0.7377\n",
            "Epoch 15/100\n",
            "325/325 [==============================] - 0s 1ms/step - loss: 0.5782 - accuracy: 0.7481 - val_loss: 0.5861 - val_accuracy: 0.7462\n",
            "Epoch 16/100\n",
            "325/325 [==============================] - 1s 2ms/step - loss: 0.5615 - accuracy: 0.7479 - val_loss: 0.5734 - val_accuracy: 0.7538\n",
            "Epoch 17/100\n",
            "325/325 [==============================] - 1s 2ms/step - loss: 0.5476 - accuracy: 0.7593 - val_loss: 0.5591 - val_accuracy: 0.7577\n",
            "Epoch 18/100\n",
            "325/325 [==============================] - 0s 1ms/step - loss: 0.5261 - accuracy: 0.7625 - val_loss: 0.5460 - val_accuracy: 0.7631\n",
            "Epoch 19/100\n",
            "325/325 [==============================] - 1s 2ms/step - loss: 0.5248 - accuracy: 0.7720 - val_loss: 0.5336 - val_accuracy: 0.7723\n",
            "Epoch 20/100\n",
            "325/325 [==============================] - 1s 2ms/step - loss: 0.4959 - accuracy: 0.7843 - val_loss: 0.5218 - val_accuracy: 0.7754\n",
            "Epoch 21/100\n",
            "325/325 [==============================] - 1s 2ms/step - loss: 0.4872 - accuracy: 0.7860 - val_loss: 0.5109 - val_accuracy: 0.7785\n",
            "Epoch 22/100\n",
            "325/325 [==============================] - 1s 2ms/step - loss: 0.4837 - accuracy: 0.7931 - val_loss: 0.4994 - val_accuracy: 0.7869\n",
            "Epoch 23/100\n",
            "325/325 [==============================] - 1s 2ms/step - loss: 0.4738 - accuracy: 0.7961 - val_loss: 0.4896 - val_accuracy: 0.7908\n",
            "Epoch 24/100\n",
            "325/325 [==============================] - 1s 2ms/step - loss: 0.4873 - accuracy: 0.7952 - val_loss: 0.4793 - val_accuracy: 0.7931\n",
            "Epoch 25/100\n",
            "325/325 [==============================] - 1s 2ms/step - loss: 0.4747 - accuracy: 0.7922 - val_loss: 0.4698 - val_accuracy: 0.7985\n",
            "Epoch 26/100\n",
            "325/325 [==============================] - 0s 2ms/step - loss: 0.4346 - accuracy: 0.8170 - val_loss: 0.4614 - val_accuracy: 0.7977\n",
            "Epoch 27/100\n",
            "325/325 [==============================] - 0s 1ms/step - loss: 0.4477 - accuracy: 0.8045 - val_loss: 0.4524 - val_accuracy: 0.8031\n",
            "Epoch 28/100\n",
            "325/325 [==============================] - 1s 2ms/step - loss: 0.4461 - accuracy: 0.8093 - val_loss: 0.4435 - val_accuracy: 0.8100\n",
            "Epoch 29/100\n",
            "325/325 [==============================] - 1s 2ms/step - loss: 0.4287 - accuracy: 0.8188 - val_loss: 0.4351 - val_accuracy: 0.8108\n",
            "Epoch 30/100\n",
            "325/325 [==============================] - 1s 2ms/step - loss: 0.4229 - accuracy: 0.8217 - val_loss: 0.4281 - val_accuracy: 0.8177\n",
            "Epoch 31/100\n",
            "325/325 [==============================] - 1s 2ms/step - loss: 0.4273 - accuracy: 0.8169 - val_loss: 0.4205 - val_accuracy: 0.8208\n",
            "Epoch 32/100\n",
            "325/325 [==============================] - 0s 1ms/step - loss: 0.4189 - accuracy: 0.8191 - val_loss: 0.4139 - val_accuracy: 0.8200\n",
            "Epoch 33/100\n",
            "325/325 [==============================] - 1s 2ms/step - loss: 0.4139 - accuracy: 0.8267 - val_loss: 0.4071 - val_accuracy: 0.8231\n",
            "Epoch 34/100\n",
            "325/325 [==============================] - 1s 2ms/step - loss: 0.4013 - accuracy: 0.8367 - val_loss: 0.4003 - val_accuracy: 0.8315\n",
            "Epoch 35/100\n",
            "325/325 [==============================] - 1s 2ms/step - loss: 0.3921 - accuracy: 0.8346 - val_loss: 0.3942 - val_accuracy: 0.8362\n",
            "Epoch 36/100\n",
            "325/325 [==============================] - 1s 2ms/step - loss: 0.3943 - accuracy: 0.8375 - val_loss: 0.3885 - val_accuracy: 0.8408\n",
            "Epoch 37/100\n",
            "325/325 [==============================] - 1s 2ms/step - loss: 0.3657 - accuracy: 0.8541 - val_loss: 0.3828 - val_accuracy: 0.8415\n",
            "Epoch 38/100\n",
            "325/325 [==============================] - 0s 1ms/step - loss: 0.3806 - accuracy: 0.8479 - val_loss: 0.3771 - val_accuracy: 0.8469\n",
            "Epoch 39/100\n",
            "325/325 [==============================] - 1s 2ms/step - loss: 0.3688 - accuracy: 0.8529 - val_loss: 0.3716 - val_accuracy: 0.8492\n",
            "Epoch 40/100\n",
            "325/325 [==============================] - 1s 2ms/step - loss: 0.3759 - accuracy: 0.8458 - val_loss: 0.3666 - val_accuracy: 0.8531\n",
            "Epoch 41/100\n",
            "325/325 [==============================] - 0s 2ms/step - loss: 0.3569 - accuracy: 0.8553 - val_loss: 0.3624 - val_accuracy: 0.8500\n",
            "Epoch 42/100\n",
            "325/325 [==============================] - 0s 1ms/step - loss: 0.3548 - accuracy: 0.8519 - val_loss: 0.3576 - val_accuracy: 0.8523\n",
            "Epoch 43/100\n",
            "325/325 [==============================] - 0s 2ms/step - loss: 0.3616 - accuracy: 0.8430 - val_loss: 0.3529 - val_accuracy: 0.8608\n",
            "Epoch 44/100\n",
            "325/325 [==============================] - 1s 2ms/step - loss: 0.3476 - accuracy: 0.8579 - val_loss: 0.3494 - val_accuracy: 0.8577\n",
            "Epoch 45/100\n",
            "325/325 [==============================] - 0s 2ms/step - loss: 0.3429 - accuracy: 0.8587 - val_loss: 0.3449 - val_accuracy: 0.8646\n",
            "Epoch 46/100\n",
            "325/325 [==============================] - 0s 2ms/step - loss: 0.3400 - accuracy: 0.8638 - val_loss: 0.3408 - val_accuracy: 0.8677\n",
            "Epoch 47/100\n",
            "325/325 [==============================] - 1s 2ms/step - loss: 0.3360 - accuracy: 0.8689 - val_loss: 0.3371 - val_accuracy: 0.8692\n",
            "Epoch 48/100\n",
            "325/325 [==============================] - 1s 2ms/step - loss: 0.3469 - accuracy: 0.8551 - val_loss: 0.3335 - val_accuracy: 0.8692\n",
            "Epoch 49/100\n",
            "325/325 [==============================] - 0s 1ms/step - loss: 0.3396 - accuracy: 0.8623 - val_loss: 0.3300 - val_accuracy: 0.8708\n",
            "Epoch 50/100\n",
            "325/325 [==============================] - 1s 2ms/step - loss: 0.3326 - accuracy: 0.8673 - val_loss: 0.3266 - val_accuracy: 0.8731\n",
            "Epoch 51/100\n",
            "325/325 [==============================] - 1s 2ms/step - loss: 0.3245 - accuracy: 0.8695 - val_loss: 0.3235 - val_accuracy: 0.8762\n",
            "Epoch 52/100\n",
            "325/325 [==============================] - 1s 2ms/step - loss: 0.3186 - accuracy: 0.8786 - val_loss: 0.3199 - val_accuracy: 0.8792\n",
            "Epoch 53/100\n",
            "325/325 [==============================] - 0s 2ms/step - loss: 0.3140 - accuracy: 0.8806 - val_loss: 0.3171 - val_accuracy: 0.8808\n",
            "Epoch 54/100\n",
            "325/325 [==============================] - 0s 1ms/step - loss: 0.3081 - accuracy: 0.8782 - val_loss: 0.3144 - val_accuracy: 0.8808\n",
            "Epoch 55/100\n",
            "325/325 [==============================] - 0s 2ms/step - loss: 0.3114 - accuracy: 0.8814 - val_loss: 0.3110 - val_accuracy: 0.8869\n",
            "Epoch 56/100\n",
            "325/325 [==============================] - 1s 2ms/step - loss: 0.3061 - accuracy: 0.8821 - val_loss: 0.3091 - val_accuracy: 0.8846\n",
            "Epoch 57/100\n",
            "325/325 [==============================] - 1s 2ms/step - loss: 0.3104 - accuracy: 0.8801 - val_loss: 0.3061 - val_accuracy: 0.8877\n",
            "Epoch 58/100\n",
            "325/325 [==============================] - 1s 2ms/step - loss: 0.3064 - accuracy: 0.8826 - val_loss: 0.3034 - val_accuracy: 0.8900\n",
            "Epoch 59/100\n",
            "325/325 [==============================] - 1s 2ms/step - loss: 0.3011 - accuracy: 0.8867 - val_loss: 0.3013 - val_accuracy: 0.8923\n",
            "Epoch 60/100\n",
            "325/325 [==============================] - 1s 2ms/step - loss: 0.3033 - accuracy: 0.8829 - val_loss: 0.2993 - val_accuracy: 0.8931\n",
            "Epoch 61/100\n",
            "325/325 [==============================] - 0s 1ms/step - loss: 0.3107 - accuracy: 0.8844 - val_loss: 0.2966 - val_accuracy: 0.8954\n",
            "Epoch 62/100\n",
            "325/325 [==============================] - 0s 2ms/step - loss: 0.2981 - accuracy: 0.8924 - val_loss: 0.2942 - val_accuracy: 0.8969\n",
            "Epoch 63/100\n",
            "325/325 [==============================] - 1s 2ms/step - loss: 0.2881 - accuracy: 0.8960 - val_loss: 0.2922 - val_accuracy: 0.8969\n",
            "Epoch 64/100\n",
            "325/325 [==============================] - 0s 2ms/step - loss: 0.2997 - accuracy: 0.8897 - val_loss: 0.2900 - val_accuracy: 0.9008\n",
            "Epoch 65/100\n",
            "325/325 [==============================] - 0s 2ms/step - loss: 0.2934 - accuracy: 0.8892 - val_loss: 0.2887 - val_accuracy: 0.8985\n",
            "Epoch 66/100\n",
            "325/325 [==============================] - 1s 2ms/step - loss: 0.3089 - accuracy: 0.8808 - val_loss: 0.2862 - val_accuracy: 0.9023\n",
            "Epoch 67/100\n",
            "325/325 [==============================] - 1s 2ms/step - loss: 0.2995 - accuracy: 0.8907 - val_loss: 0.2844 - val_accuracy: 0.9046\n",
            "Epoch 68/100\n",
            "325/325 [==============================] - 1s 2ms/step - loss: 0.2909 - accuracy: 0.8874 - val_loss: 0.2826 - val_accuracy: 0.9054\n",
            "Epoch 69/100\n",
            "325/325 [==============================] - 1s 2ms/step - loss: 0.2920 - accuracy: 0.8922 - val_loss: 0.2809 - val_accuracy: 0.9069\n",
            "Epoch 70/100\n",
            "325/325 [==============================] - 1s 2ms/step - loss: 0.2967 - accuracy: 0.8907 - val_loss: 0.2794 - val_accuracy: 0.9085\n",
            "Epoch 71/100\n",
            "325/325 [==============================] - 1s 2ms/step - loss: 0.2869 - accuracy: 0.8920 - val_loss: 0.2776 - val_accuracy: 0.9085\n",
            "Epoch 72/100\n",
            "325/325 [==============================] - 0s 2ms/step - loss: 0.2772 - accuracy: 0.8996 - val_loss: 0.2762 - val_accuracy: 0.9100\n",
            "Epoch 73/100\n",
            "325/325 [==============================] - 1s 2ms/step - loss: 0.2823 - accuracy: 0.8984 - val_loss: 0.2746 - val_accuracy: 0.9100\n",
            "Epoch 74/100\n",
            "325/325 [==============================] - 0s 2ms/step - loss: 0.2761 - accuracy: 0.8995 - val_loss: 0.2730 - val_accuracy: 0.9108\n",
            "Epoch 75/100\n",
            "325/325 [==============================] - 0s 1ms/step - loss: 0.2782 - accuracy: 0.8968 - val_loss: 0.2716 - val_accuracy: 0.9108\n",
            "Epoch 76/100\n",
            "325/325 [==============================] - 1s 2ms/step - loss: 0.2799 - accuracy: 0.8964 - val_loss: 0.2701 - val_accuracy: 0.9108\n",
            "Epoch 77/100\n",
            "325/325 [==============================] - 1s 2ms/step - loss: 0.2815 - accuracy: 0.8987 - val_loss: 0.2689 - val_accuracy: 0.9123\n",
            "Epoch 78/100\n",
            "325/325 [==============================] - 0s 1ms/step - loss: 0.2711 - accuracy: 0.9046 - val_loss: 0.2674 - val_accuracy: 0.9115\n",
            "Epoch 79/100\n",
            "325/325 [==============================] - 1s 2ms/step - loss: 0.2834 - accuracy: 0.8977 - val_loss: 0.2664 - val_accuracy: 0.9123\n",
            "Epoch 80/100\n",
            "325/325 [==============================] - 1s 2ms/step - loss: 0.2731 - accuracy: 0.9051 - val_loss: 0.2653 - val_accuracy: 0.9123\n",
            "Epoch 81/100\n",
            "325/325 [==============================] - 1s 2ms/step - loss: 0.2584 - accuracy: 0.9105 - val_loss: 0.2638 - val_accuracy: 0.9131\n",
            "Epoch 82/100\n",
            "325/325 [==============================] - 1s 2ms/step - loss: 0.2782 - accuracy: 0.8992 - val_loss: 0.2627 - val_accuracy: 0.9138\n",
            "Epoch 83/100\n",
            "325/325 [==============================] - 1s 2ms/step - loss: 0.2701 - accuracy: 0.9071 - val_loss: 0.2618 - val_accuracy: 0.9123\n",
            "Epoch 84/100\n",
            "325/325 [==============================] - 1s 2ms/step - loss: 0.2820 - accuracy: 0.8969 - val_loss: 0.2607 - val_accuracy: 0.9138\n",
            "Epoch 85/100\n",
            "325/325 [==============================] - 1s 2ms/step - loss: 0.2691 - accuracy: 0.9052 - val_loss: 0.2594 - val_accuracy: 0.9131\n",
            "Epoch 86/100\n",
            "325/325 [==============================] - 1s 2ms/step - loss: 0.2630 - accuracy: 0.9071 - val_loss: 0.2584 - val_accuracy: 0.9131\n",
            "Epoch 87/100\n",
            "325/325 [==============================] - 1s 2ms/step - loss: 0.2676 - accuracy: 0.9065 - val_loss: 0.2573 - val_accuracy: 0.9138\n",
            "Epoch 88/100\n",
            "325/325 [==============================] - 1s 2ms/step - loss: 0.2687 - accuracy: 0.9067 - val_loss: 0.2563 - val_accuracy: 0.9138\n",
            "Epoch 89/100\n",
            "325/325 [==============================] - 0s 2ms/step - loss: 0.2629 - accuracy: 0.9080 - val_loss: 0.2554 - val_accuracy: 0.9138\n",
            "Epoch 90/100\n",
            "325/325 [==============================] - 0s 2ms/step - loss: 0.2709 - accuracy: 0.9043 - val_loss: 0.2545 - val_accuracy: 0.9138\n",
            "Epoch 91/100\n",
            "325/325 [==============================] - 1s 2ms/step - loss: 0.2689 - accuracy: 0.9066 - val_loss: 0.2535 - val_accuracy: 0.9138\n",
            "Epoch 92/100\n",
            "325/325 [==============================] - 0s 2ms/step - loss: 0.2615 - accuracy: 0.9089 - val_loss: 0.2528 - val_accuracy: 0.9146\n",
            "Epoch 93/100\n",
            "325/325 [==============================] - 1s 2ms/step - loss: 0.2629 - accuracy: 0.9106 - val_loss: 0.2518 - val_accuracy: 0.9138\n",
            "Epoch 94/100\n",
            "325/325 [==============================] - 1s 2ms/step - loss: 0.2596 - accuracy: 0.9115 - val_loss: 0.2511 - val_accuracy: 0.9177\n",
            "Epoch 95/100\n",
            "325/325 [==============================] - 1s 2ms/step - loss: 0.2630 - accuracy: 0.9100 - val_loss: 0.2502 - val_accuracy: 0.9162\n",
            "Epoch 96/100\n",
            "325/325 [==============================] - 1s 2ms/step - loss: 0.2561 - accuracy: 0.9135 - val_loss: 0.2492 - val_accuracy: 0.9154\n",
            "Epoch 97/100\n",
            "325/325 [==============================] - 1s 2ms/step - loss: 0.2645 - accuracy: 0.9085 - val_loss: 0.2487 - val_accuracy: 0.9177\n",
            "Epoch 98/100\n",
            "325/325 [==============================] - 1s 2ms/step - loss: 0.2594 - accuracy: 0.9105 - val_loss: 0.2480 - val_accuracy: 0.9177\n",
            "Epoch 99/100\n",
            "325/325 [==============================] - 1s 2ms/step - loss: 0.2637 - accuracy: 0.9084 - val_loss: 0.2470 - val_accuracy: 0.9177\n",
            "Epoch 100/100\n",
            "325/325 [==============================] - 1s 2ms/step - loss: 0.2550 - accuracy: 0.9134 - val_loss: 0.2466 - val_accuracy: 0.9177\n",
            "51/51 [==============================] - 0s 1ms/step - loss: 0.2709 - accuracy: 0.9077\n",
            "Test loss: 0.2709135413169861\n",
            "Test accuracy: 0.9076923131942749\n"
          ],
          "name": "stdout"
        }
      ]
    },
    {
      "cell_type": "markdown",
      "metadata": {
        "id": "jcd0wy7mZHpX"
      },
      "source": [
        "## Third model\n",
        "\n",
        "---"
      ]
    },
    {
      "cell_type": "code",
      "metadata": {
        "colab": {
          "base_uri": "https://localhost:8080/"
        },
        "id": "R18T5oPSj2bI",
        "outputId": "8c9a196f-09d5-49a0-9c34-9fa7734c59a3"
      },
      "source": [
        "# And now, for the last point, let's re-use some code from HW1 to train simple NN classifier\n",
        "from tensorflow.keras.models import Sequential\n",
        "from tensorflow.keras.layers import Dense, Dropout, MaxPooling2D\n",
        "from tensorflow.keras.optimizers import Adam\n",
        "\n",
        "model_2 = Sequential()\n",
        "model_2.add(Dense(256, activation='relu'))Y\n",
        "model_2.add(Dropout(rate=0.25))\n",
        "model_2.add(Dense(128, activation='relu'))\n",
        "model_2.add(Dropout(rate=0.25))\n",
        "model_2.add(Dense(64, activation='relu'))\n",
        "model_2.add(Dropout(rate=0.25))\n",
        "model_2.add(Dense(32, activation='relu'))\n",
        "model_2.add(Dropout(rate=0.25))\n",
        "model_2.add(Dense(1, activation='sigmoid')) \n",
        "\n",
        "model_2.compile(loss='binary_crossentropy', optimizer=Adam(learning_rate=0.0001), metrics=['accuracy'])\n",
        "history = model_2.fit(X_train, y_train, batch_size=16, epochs=30, validation_data=(X_val, y_val))\n",
        "\n",
        "score = model_2.evaluate(X_test, y_test)\n",
        "print('Test loss:', score[0])\n",
        "print('Test accuracy:', score[1])"
      ],
      "execution_count": null,
      "outputs": [
        {
          "output_type": "stream",
          "text": [
            "Epoch 1/30\n",
            "325/325 [==============================] - 2s 4ms/step - loss: 0.6777 - accuracy: 0.5895 - val_loss: 0.4041 - val_accuracy: 0.8438\n",
            "Epoch 2/30\n",
            "325/325 [==============================] - 1s 3ms/step - loss: 0.4669 - accuracy: 0.7913 - val_loss: 0.2960 - val_accuracy: 0.8915\n",
            "Epoch 3/30\n",
            "325/325 [==============================] - 1s 3ms/step - loss: 0.3828 - accuracy: 0.8470 - val_loss: 0.2295 - val_accuracy: 0.9138\n",
            "Epoch 4/30\n",
            "325/325 [==============================] - 1s 3ms/step - loss: 0.3113 - accuracy: 0.8737 - val_loss: 0.1863 - val_accuracy: 0.9415\n",
            "Epoch 5/30\n",
            "325/325 [==============================] - 1s 3ms/step - loss: 0.2696 - accuracy: 0.8968 - val_loss: 0.1626 - val_accuracy: 0.9400\n",
            "Epoch 6/30\n",
            "325/325 [==============================] - 1s 3ms/step - loss: 0.2433 - accuracy: 0.9030 - val_loss: 0.1438 - val_accuracy: 0.9462\n",
            "Epoch 7/30\n",
            "325/325 [==============================] - 1s 3ms/step - loss: 0.2033 - accuracy: 0.9264 - val_loss: 0.1254 - val_accuracy: 0.9469\n",
            "Epoch 8/30\n",
            "325/325 [==============================] - 1s 3ms/step - loss: 0.1832 - accuracy: 0.9311 - val_loss: 0.1057 - val_accuracy: 0.9592\n",
            "Epoch 9/30\n",
            "325/325 [==============================] - 1s 3ms/step - loss: 0.1504 - accuracy: 0.9411 - val_loss: 0.0867 - val_accuracy: 0.9685\n",
            "Epoch 10/30\n",
            "325/325 [==============================] - 1s 3ms/step - loss: 0.1364 - accuracy: 0.9526 - val_loss: 0.0751 - val_accuracy: 0.9769\n",
            "Epoch 11/30\n",
            "325/325 [==============================] - 1s 3ms/step - loss: 0.1271 - accuracy: 0.9550 - val_loss: 0.0625 - val_accuracy: 0.9792\n",
            "Epoch 12/30\n",
            "325/325 [==============================] - 1s 3ms/step - loss: 0.0833 - accuracy: 0.9710 - val_loss: 0.0494 - val_accuracy: 0.9854\n",
            "Epoch 13/30\n",
            "325/325 [==============================] - 1s 3ms/step - loss: 0.0873 - accuracy: 0.9694 - val_loss: 0.0436 - val_accuracy: 0.9862\n",
            "Epoch 14/30\n",
            "325/325 [==============================] - 1s 3ms/step - loss: 0.0648 - accuracy: 0.9793 - val_loss: 0.0386 - val_accuracy: 0.9869\n",
            "Epoch 15/30\n",
            "325/325 [==============================] - 1s 3ms/step - loss: 0.0548 - accuracy: 0.9825 - val_loss: 0.0296 - val_accuracy: 0.9900\n",
            "Epoch 16/30\n",
            "325/325 [==============================] - 1s 3ms/step - loss: 0.0553 - accuracy: 0.9791 - val_loss: 0.0267 - val_accuracy: 0.9923\n",
            "Epoch 17/30\n",
            "325/325 [==============================] - 1s 3ms/step - loss: 0.0449 - accuracy: 0.9846 - val_loss: 0.0212 - val_accuracy: 0.9938\n",
            "Epoch 18/30\n",
            "325/325 [==============================] - 1s 3ms/step - loss: 0.0426 - accuracy: 0.9846 - val_loss: 0.0181 - val_accuracy: 0.9938\n",
            "Epoch 19/30\n",
            "325/325 [==============================] - 1s 3ms/step - loss: 0.0360 - accuracy: 0.9878 - val_loss: 0.0193 - val_accuracy: 0.9946\n",
            "Epoch 20/30\n",
            "325/325 [==============================] - 1s 3ms/step - loss: 0.0332 - accuracy: 0.9894 - val_loss: 0.0140 - val_accuracy: 0.9938\n",
            "Epoch 21/30\n",
            "325/325 [==============================] - 1s 3ms/step - loss: 0.0309 - accuracy: 0.9927 - val_loss: 0.0122 - val_accuracy: 0.9954\n",
            "Epoch 22/30\n",
            "325/325 [==============================] - 1s 3ms/step - loss: 0.0243 - accuracy: 0.9925 - val_loss: 0.0096 - val_accuracy: 0.9954\n",
            "Epoch 23/30\n",
            "325/325 [==============================] - 1s 3ms/step - loss: 0.0369 - accuracy: 0.9916 - val_loss: 0.0095 - val_accuracy: 0.9969\n",
            "Epoch 24/30\n",
            "325/325 [==============================] - 1s 3ms/step - loss: 0.0219 - accuracy: 0.9926 - val_loss: 0.0078 - val_accuracy: 0.9977\n",
            "Epoch 25/30\n",
            "325/325 [==============================] - 1s 3ms/step - loss: 0.0224 - accuracy: 0.9923 - val_loss: 0.0055 - val_accuracy: 0.9992\n",
            "Epoch 26/30\n",
            "325/325 [==============================] - 1s 3ms/step - loss: 0.0192 - accuracy: 0.9929 - val_loss: 0.0047 - val_accuracy: 0.9985\n",
            "Epoch 27/30\n",
            "325/325 [==============================] - 1s 3ms/step - loss: 0.0190 - accuracy: 0.9930 - val_loss: 0.0045 - val_accuracy: 0.9985\n",
            "Epoch 28/30\n",
            "325/325 [==============================] - 1s 3ms/step - loss: 0.0124 - accuracy: 0.9971 - val_loss: 0.0060 - val_accuracy: 0.9992\n",
            "Epoch 29/30\n",
            "325/325 [==============================] - 1s 3ms/step - loss: 0.0126 - accuracy: 0.9959 - val_loss: 0.0064 - val_accuracy: 0.9977\n",
            "Epoch 30/30\n",
            "325/325 [==============================] - 1s 3ms/step - loss: 0.0117 - accuracy: 0.9964 - val_loss: 0.0049 - val_accuracy: 0.9992\n",
            "51/51 [==============================] - 0s 1ms/step - loss: 0.0060 - accuracy: 0.9975\n",
            "Test loss: 0.005965065211057663\n",
            "Test accuracy: 0.9975384473800659\n"
          ],
          "name": "stdout"
        }
      ]
    }
  ]
}